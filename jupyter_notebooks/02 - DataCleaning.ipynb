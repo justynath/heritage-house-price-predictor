{
  "cells": [
    {
      "cell_type": "markdown",
      "metadata": {
        "id": "0aStgWSO0E0E"
      },
      "source": [
        "# **Data Cleaning Notebook**"
      ]
    },
    {
      "cell_type": "markdown",
      "metadata": {
        "id": "1eLEkw5O0ECa"
      },
      "source": [
        "**Objectives**  \n",
        "Clean the data in preparation for feature engineering and modelling by:\n",
        "- Dropping features with excessive missing values\n",
        "- Imputing numerical and categorical missing values appropriately\n",
        "- Creating a clean training and test dataset split\n",
        "\n",
        "**Inputs**\n",
        "- `outputs/datasets/collection/house_prices_records.csv`\n",
        "- `outputs/datasets/collection/inherited_houses.csv`\n",
        "\n",
        "**Outputs**\n",
        "- `outputs/datasets/cleaned/TrainSetCleaned.csv`\n",
        "- `outputs/datasets/cleaned/TestSetCleaned.csv`\n",
        "- `outputs/datasets/cleaned/FullSetCleaned.csv`\n",
        "\n",
        "**Additional Comments**\n",
        "- Columns with >85% missing values were dropped.\n",
        "- Median imputation was used for skewed numerical columns.\n",
        "- Categorical imputation with 'None' was used where feature absence was implied.\n",
        "- All datasets are now clean and ready for correlation study or feature engineering.\n"
      ]
    },
    {
      "cell_type": "markdown",
      "metadata": {
        "id": "9uWZXH9LwoQg"
      },
      "source": [
        "---"
      ]
    },
    {
      "cell_type": "markdown",
      "metadata": {
        "id": "cqP-UeN-z3i2"
      },
      "source": [
        "# Change working directory"
      ]
    },
    {
      "cell_type": "markdown",
      "metadata": {},
      "source": [
        "* We are assuming you will store the notebooks in a subfolder, therefore when running the notebook in the editor, you will need to change the working directory"
      ]
    },
    {
      "cell_type": "markdown",
      "metadata": {
        "id": "aOGIGS-uz3i2"
      },
      "source": [
        "We need to change the working directory from its current folder to its parent folder\n",
        "* We access the current directory with os.getcwd()"
      ]
    },
    {
      "cell_type": "code",
      "execution_count": 1,
      "metadata": {
        "id": "wZfF_j-Bz3i4",
        "outputId": "66943449-1436-4c3d-85c7-b85f9f78349b"
      },
      "outputs": [
        {
          "data": {
            "text/plain": [
              "'/workspaces/heritage-house-price-predictor/jupyter_notebooks'"
            ]
          },
          "execution_count": 1,
          "metadata": {},
          "output_type": "execute_result"
        }
      ],
      "source": [
        "import os\n",
        "current_dir = os.getcwd()\n",
        "current_dir"
      ]
    },
    {
      "cell_type": "markdown",
      "metadata": {
        "id": "9MWW8E7lz3i7"
      },
      "source": [
        "We want to make the parent of the current directory the new current directory\n",
        "* os.path.dirname() gets the parent directory\n",
        "* os.chir() defines the new current directory"
      ]
    },
    {
      "cell_type": "code",
      "execution_count": 2,
      "metadata": {
        "id": "TwHsQRWjz3i9",
        "outputId": "86849db3-cd2f-4cc5-ebb8-2d0caafa1a2c"
      },
      "outputs": [
        {
          "name": "stdout",
          "output_type": "stream",
          "text": [
            "You set a new current directory\n"
          ]
        }
      ],
      "source": [
        "os.chdir(os.path.dirname(current_dir))\n",
        "print(\"You set a new current directory\")"
      ]
    },
    {
      "cell_type": "markdown",
      "metadata": {
        "id": "M_xPk_Ijz3i-"
      },
      "source": [
        "Confirm the new current directory"
      ]
    },
    {
      "cell_type": "code",
      "execution_count": 3,
      "metadata": {
        "id": "vz3S-_kjz3jA",
        "outputId": "00b79ae4-75d0-4a96-d193-ac9ef9847ea2"
      },
      "outputs": [
        {
          "data": {
            "text/plain": [
              "'/workspaces/heritage-house-price-predictor'"
            ]
          },
          "execution_count": 3,
          "metadata": {},
          "output_type": "execute_result"
        }
      ],
      "source": [
        "current_dir = os.getcwd()\n",
        "current_dir"
      ]
    },
    {
      "cell_type": "markdown",
      "metadata": {
        "id": "-mavJ8DibrcQ"
      },
      "source": [
        "# Load the Data"
      ]
    },
    {
      "cell_type": "markdown",
      "metadata": {},
      "source": [
        "Section 1 content"
      ]
    },
    {
      "cell_type": "code",
      "execution_count": 4,
      "metadata": {},
      "outputs": [
        {
          "name": "stdout",
          "output_type": "stream",
          "text": [
            "House Prices Data:\n",
            "(1460, 24)\n",
            "   1stFlrSF  2ndFlrSF  BedroomAbvGr BsmtExposure  BsmtFinSF1 BsmtFinType1  \\\n",
            "0       856     854.0           3.0           No         706          GLQ   \n",
            "1      1262       0.0           3.0           Gd         978          ALQ   \n",
            "2       920     866.0           3.0           Mn         486          GLQ   \n",
            "3       961       NaN           NaN           No         216          ALQ   \n",
            "4      1145       NaN           4.0           Av         655          GLQ   \n",
            "\n",
            "   BsmtUnfSF  EnclosedPorch  GarageArea GarageFinish  ...  LotFrontage  \\\n",
            "0        150            0.0         548          RFn  ...         65.0   \n",
            "1        284            NaN         460          RFn  ...         80.0   \n",
            "2        434            0.0         608          RFn  ...         68.0   \n",
            "3        540            NaN         642          Unf  ...         60.0   \n",
            "4        490            0.0         836          RFn  ...         84.0   \n",
            "\n",
            "   MasVnrArea OpenPorchSF  OverallCond  OverallQual  TotalBsmtSF  WoodDeckSF  \\\n",
            "0       196.0          61            5            7          856         0.0   \n",
            "1         0.0           0            8            6         1262         NaN   \n",
            "2       162.0          42            5            7          920         NaN   \n",
            "3         0.0          35            5            7          756         NaN   \n",
            "4       350.0          84            5            8         1145         NaN   \n",
            "\n",
            "   YearBuilt  YearRemodAdd  SalePrice  \n",
            "0       2003          2003     208500  \n",
            "1       1976          1976     181500  \n",
            "2       2001          2002     223500  \n",
            "3       1915          1970     140000  \n",
            "4       2000          2000     250000  \n",
            "\n",
            "[5 rows x 24 columns]\n",
            "\n",
            "Inherited Houses Data:\n",
            "(4, 23)\n",
            "   1stFlrSF  2ndFlrSF  BedroomAbvGr BsmtExposure  BsmtFinSF1 BsmtFinType1  \\\n",
            "0       896         0             2           No       468.0          Rec   \n",
            "1      1329         0             3           No       923.0          ALQ   \n",
            "2       928       701             3           No       791.0          GLQ   \n",
            "3       926       678             3           No       602.0          GLQ   \n",
            "\n",
            "   BsmtUnfSF  EnclosedPorch  GarageArea GarageFinish  ...  LotArea  \\\n",
            "0      270.0              0       730.0          Unf  ...    11622   \n",
            "1      406.0              0       312.0          Unf  ...    14267   \n",
            "2      137.0              0       482.0          Fin  ...    13830   \n",
            "3      324.0              0       470.0          Fin  ...     9978   \n",
            "\n",
            "   LotFrontage MasVnrArea  OpenPorchSF  OverallCond  OverallQual  TotalBsmtSF  \\\n",
            "0         80.0        0.0            0            6            5        882.0   \n",
            "1         81.0      108.0           36            6            6       1329.0   \n",
            "2         74.0        0.0           34            5            5        928.0   \n",
            "3         78.0       20.0           36            6            6        926.0   \n",
            "\n",
            "   WoodDeckSF  YearBuilt  YearRemodAdd  \n",
            "0         140       1961          1961  \n",
            "1         393       1958          1958  \n",
            "2         212       1997          1998  \n",
            "3         360       1998          1998  \n",
            "\n",
            "[4 rows x 23 columns]\n"
          ]
        }
      ],
      "source": [
        "import pandas as pd\n",
        "\n",
        "house_prices_df = pd.read_csv(\"outputs/datasets/collection/house_prices_records.csv\")\n",
        "inherited_houses_df = pd.read_csv(\"outputs/datasets/collection/inherited_houses.csv\")\n",
        "\n",
        "print(\"House Prices Data:\")\n",
        "print(house_prices_df.shape)\n",
        "print(house_prices_df.head())\n",
        "\n",
        "print(\"\\nInherited Houses Data:\")\n",
        "print(inherited_houses_df.shape)\n",
        "print(inherited_houses_df.head())"
      ]
    },
    {
      "cell_type": "markdown",
      "metadata": {
        "id": "ZY3l0-AxO93d"
      },
      "source": [
        "---"
      ]
    },
    {
      "cell_type": "markdown",
      "metadata": {
        "id": "uFQo3ycuO-v6"
      },
      "source": [
        "# Missing Data"
      ]
    },
    {
      "cell_type": "markdown",
      "metadata": {},
      "source": [
        "Define the Function"
      ]
    },
    {
      "cell_type": "code",
      "execution_count": 5,
      "metadata": {},
      "outputs": [],
      "source": [
        "def EvaluateMissingData(df):\n",
        "    \"\"\"\n",
        "    Returns a summary of columns with missing data:\n",
        "    - Absolute count\n",
        "    - Percentage of total rows\n",
        "    - Data type\n",
        "    \"\"\"\n",
        "    missing_data_absolute = df.isnull().sum()\n",
        "    missing_data_percentage = round(missing_data_absolute / len(df) * 100, 2)\n",
        "    df_missing_data = pd.DataFrame({\n",
        "        \"RowsWithMissingData\": missing_data_absolute,\n",
        "        \"PercentageOfDataset\": missing_data_percentage,\n",
        "        \"DataType\": df.dtypes\n",
        "    })\n",
        "    df_missing_data = df_missing_data[df_missing_data[\"RowsWithMissingData\"] > 0]\n",
        "    df_missing_data = df_missing_data.sort_values(by=\"PercentageOfDataset\", ascending=False)\n",
        "    return df_missing_data"
      ]
    },
    {
      "cell_type": "markdown",
      "metadata": {},
      "source": [
        "Apply to Our Data"
      ]
    },
    {
      "cell_type": "code",
      "execution_count": 6,
      "metadata": {},
      "outputs": [
        {
          "name": "stdout",
          "output_type": "stream",
          "text": [
            "House Prices Dataset - Missing Data\n",
            "               RowsWithMissingData  PercentageOfDataset DataType\n",
            "EnclosedPorch                 1324                90.68  float64\n",
            "WoodDeckSF                    1305                89.38  float64\n",
            "LotFrontage                    259                17.74  float64\n",
            "GarageFinish                   235                16.10   object\n",
            "BsmtFinType1                   145                 9.93   object\n",
            "BedroomAbvGr                    99                 6.78  float64\n",
            "2ndFlrSF                        86                 5.89  float64\n",
            "GarageYrBlt                     81                 5.55  float64\n",
            "BsmtExposure                    38                 2.60   object\n",
            "MasVnrArea                       8                 0.55  float64\n",
            "\n",
            "Inherited Houses Dataset - Missing Data\n",
            "Empty DataFrame\n",
            "Columns: [RowsWithMissingData, PercentageOfDataset, DataType]\n",
            "Index: []\n"
          ]
        }
      ],
      "source": [
        "print(\"House Prices Dataset - Missing Data\")\n",
        "missing_house_prices = EvaluateMissingData(house_prices_df)\n",
        "print(missing_house_prices)\n",
        "\n",
        "print(\"\\nInherited Houses Dataset - Missing Data\")\n",
        "missing_inherited = EvaluateMissingData(inherited_houses_df)\n",
        "print(missing_inherited)"
      ]
    },
    {
      "cell_type": "markdown",
      "metadata": {},
      "source": [
        "Drop Columns with Too Much Missing Data\n",
        "* `EnclosedPorch` (90.68%)\n",
        "* `WoodDeckSF` (89.38%)"
      ]
    },
    {
      "cell_type": "code",
      "execution_count": 7,
      "metadata": {},
      "outputs": [
        {
          "name": "stdout",
          "output_type": "stream",
          "text": [
            "House Prices shape: (1460, 22)\n",
            "Inherited Houses shape: (4, 21)\n"
          ]
        }
      ],
      "source": [
        "from feature_engine.selection import DropFeatures\n",
        "\n",
        "def drop_features(df):\n",
        "    \"\"\"\n",
        "    Drops high-missing columns: EnclosedPorch and WoodDeckSF\n",
        "    \"\"\"\n",
        "    imputer = DropFeatures(features_to_drop=['EnclosedPorch', 'WoodDeckSF'])\n",
        "    df_removed_columns = imputer.fit_transform(df)\n",
        "    return df_removed_columns\n",
        "\n",
        "# Apply to both datasets\n",
        "house_prices_df = drop_features(house_prices_df)\n",
        "inherited_houses_df = drop_features(inherited_houses_df)\n",
        "\n",
        "# Confirm shape change\n",
        "print(\"House Prices shape:\", house_prices_df.shape)\n",
        "print(\"Inherited Houses shape:\", inherited_houses_df.shape)"
      ]
    },
    {
      "cell_type": "markdown",
      "metadata": {},
      "source": [
        "Impute Missing Numerical Data with Median\n",
        "* `LotFrontage` (17.74% missing)\n",
        "* `BedroomAbvGr` (6.78% missing)\n",
        "* `2ndFlrSF` (5.89% missing)\n",
        "* `GarageYrBlt` (5.55% missing)\n",
        "* `MasVnrArea` (0.55% missing)"
      ]
    },
    {
      "cell_type": "code",
      "execution_count": 8,
      "metadata": {},
      "outputs": [
        {
          "name": "stdout",
          "output_type": "stream",
          "text": [
            "Rechecking missing values after assignment:\n",
            "LotFrontage     0\n",
            "BedroomAbvGr    0\n",
            "2ndFlrSF        0\n",
            "GarageYrBlt     0\n",
            "MasVnrArea      0\n",
            "dtype: int64\n"
          ]
        }
      ],
      "source": [
        "from feature_engine.imputation import MeanMedianImputer\n",
        "\n",
        "# Define the variables\n",
        "variables_median = ['LotFrontage', 'BedroomAbvGr', '2ndFlrSF', 'GarageYrBlt', 'MasVnrArea']\n",
        "\n",
        "# Create and apply imputer\n",
        "median_imputer = MeanMedianImputer(imputation_method='median', variables=variables_median)\n",
        "df_median_imputed = median_imputer.fit_transform(house_prices_df)\n",
        "\n",
        "# Check remaining missing values\n",
        "house_prices_df = df_median_imputed\n",
        "print(\"Rechecking missing values after assignment:\")\n",
        "print(house_prices_df[variables_median].isnull().sum())"
      ]
    },
    {
      "cell_type": "markdown",
      "metadata": {},
      "source": [
        "Impute Categorical Variables\n",
        "* `GarageFinish` (16.10% missing)\n",
        "* `BsmtFinType1` (9.93% missing)\n",
        "* `BsmtExposure` (2.60% missing)"
      ]
    },
    {
      "cell_type": "code",
      "execution_count": 9,
      "metadata": {},
      "outputs": [
        {
          "name": "stdout",
          "output_type": "stream",
          "text": [
            "GarageFinish    0\n",
            "BsmtFinType1    0\n",
            "BsmtExposure    0\n",
            "dtype: int64\n"
          ]
        },
        {
          "name": "stderr",
          "output_type": "stream",
          "text": [
            "/home/cistudent/.local/lib/python3.12/site-packages/feature_engine/imputation/categorical.py:232: FutureWarning: is_categorical_dtype is deprecated and will be removed in a future version. Use isinstance(dtype, CategoricalDtype) instead\n",
            "  if pd.api.types.is_categorical_dtype(X[variable]):\n"
          ]
        }
      ],
      "source": [
        "from feature_engine.imputation import CategoricalImputer\n",
        "\n",
        "variables_categorical = ['GarageFinish', 'BsmtFinType1', 'BsmtExposure']\n",
        "\n",
        "# Create the imputer\n",
        "cat_imputer = CategoricalImputer(\n",
        "    imputation_method='missing',\n",
        "    fill_value='None',\n",
        "    variables=variables_categorical\n",
        ")\n",
        "\n",
        "# Fit and transform the data\n",
        "house_prices_df = cat_imputer.fit_transform(house_prices_df)\n",
        "\n",
        "# Recheck missing values in the categorical columns\n",
        "print(house_prices_df[variables_categorical].isnull().sum())"
      ]
    },
    {
      "cell_type": "markdown",
      "metadata": {},
      "source": [
        "## Final Check and Save Cleaned Data"
      ]
    },
    {
      "cell_type": "markdown",
      "metadata": {},
      "source": [
        "Final Checks"
      ]
    },
    {
      "cell_type": "code",
      "execution_count": 10,
      "metadata": {},
      "outputs": [
        {
          "name": "stdout",
          "output_type": "stream",
          "text": [
            " Final check: Any missing values?\n",
            "0\n",
            "\n",
            " Final shape of cleaned data:\n",
            "(1460, 22)\n",
            "\n",
            " Preview of cleaned dataset:\n"
          ]
        },
        {
          "data": {
            "text/html": [
              "<div>\n",
              "<style scoped>\n",
              "    .dataframe tbody tr th:only-of-type {\n",
              "        vertical-align: middle;\n",
              "    }\n",
              "\n",
              "    .dataframe tbody tr th {\n",
              "        vertical-align: top;\n",
              "    }\n",
              "\n",
              "    .dataframe thead th {\n",
              "        text-align: right;\n",
              "    }\n",
              "</style>\n",
              "<table border=\"1\" class=\"dataframe\">\n",
              "  <thead>\n",
              "    <tr style=\"text-align: right;\">\n",
              "      <th></th>\n",
              "      <th>1stFlrSF</th>\n",
              "      <th>2ndFlrSF</th>\n",
              "      <th>BedroomAbvGr</th>\n",
              "      <th>BsmtExposure</th>\n",
              "      <th>BsmtFinSF1</th>\n",
              "      <th>BsmtFinType1</th>\n",
              "      <th>BsmtUnfSF</th>\n",
              "      <th>GarageArea</th>\n",
              "      <th>GarageFinish</th>\n",
              "      <th>GarageYrBlt</th>\n",
              "      <th>...</th>\n",
              "      <th>LotArea</th>\n",
              "      <th>LotFrontage</th>\n",
              "      <th>MasVnrArea</th>\n",
              "      <th>OpenPorchSF</th>\n",
              "      <th>OverallCond</th>\n",
              "      <th>OverallQual</th>\n",
              "      <th>TotalBsmtSF</th>\n",
              "      <th>YearBuilt</th>\n",
              "      <th>YearRemodAdd</th>\n",
              "      <th>SalePrice</th>\n",
              "    </tr>\n",
              "  </thead>\n",
              "  <tbody>\n",
              "    <tr>\n",
              "      <th>0</th>\n",
              "      <td>856</td>\n",
              "      <td>854.0</td>\n",
              "      <td>3.0</td>\n",
              "      <td>No</td>\n",
              "      <td>706</td>\n",
              "      <td>GLQ</td>\n",
              "      <td>150</td>\n",
              "      <td>548</td>\n",
              "      <td>RFn</td>\n",
              "      <td>2003.0</td>\n",
              "      <td>...</td>\n",
              "      <td>8450</td>\n",
              "      <td>65.0</td>\n",
              "      <td>196.0</td>\n",
              "      <td>61</td>\n",
              "      <td>5</td>\n",
              "      <td>7</td>\n",
              "      <td>856</td>\n",
              "      <td>2003</td>\n",
              "      <td>2003</td>\n",
              "      <td>208500</td>\n",
              "    </tr>\n",
              "    <tr>\n",
              "      <th>1</th>\n",
              "      <td>1262</td>\n",
              "      <td>0.0</td>\n",
              "      <td>3.0</td>\n",
              "      <td>Gd</td>\n",
              "      <td>978</td>\n",
              "      <td>ALQ</td>\n",
              "      <td>284</td>\n",
              "      <td>460</td>\n",
              "      <td>RFn</td>\n",
              "      <td>1976.0</td>\n",
              "      <td>...</td>\n",
              "      <td>9600</td>\n",
              "      <td>80.0</td>\n",
              "      <td>0.0</td>\n",
              "      <td>0</td>\n",
              "      <td>8</td>\n",
              "      <td>6</td>\n",
              "      <td>1262</td>\n",
              "      <td>1976</td>\n",
              "      <td>1976</td>\n",
              "      <td>181500</td>\n",
              "    </tr>\n",
              "    <tr>\n",
              "      <th>2</th>\n",
              "      <td>920</td>\n",
              "      <td>866.0</td>\n",
              "      <td>3.0</td>\n",
              "      <td>Mn</td>\n",
              "      <td>486</td>\n",
              "      <td>GLQ</td>\n",
              "      <td>434</td>\n",
              "      <td>608</td>\n",
              "      <td>RFn</td>\n",
              "      <td>2001.0</td>\n",
              "      <td>...</td>\n",
              "      <td>11250</td>\n",
              "      <td>68.0</td>\n",
              "      <td>162.0</td>\n",
              "      <td>42</td>\n",
              "      <td>5</td>\n",
              "      <td>7</td>\n",
              "      <td>920</td>\n",
              "      <td>2001</td>\n",
              "      <td>2002</td>\n",
              "      <td>223500</td>\n",
              "    </tr>\n",
              "    <tr>\n",
              "      <th>3</th>\n",
              "      <td>961</td>\n",
              "      <td>0.0</td>\n",
              "      <td>3.0</td>\n",
              "      <td>No</td>\n",
              "      <td>216</td>\n",
              "      <td>ALQ</td>\n",
              "      <td>540</td>\n",
              "      <td>642</td>\n",
              "      <td>Unf</td>\n",
              "      <td>1998.0</td>\n",
              "      <td>...</td>\n",
              "      <td>9550</td>\n",
              "      <td>60.0</td>\n",
              "      <td>0.0</td>\n",
              "      <td>35</td>\n",
              "      <td>5</td>\n",
              "      <td>7</td>\n",
              "      <td>756</td>\n",
              "      <td>1915</td>\n",
              "      <td>1970</td>\n",
              "      <td>140000</td>\n",
              "    </tr>\n",
              "    <tr>\n",
              "      <th>4</th>\n",
              "      <td>1145</td>\n",
              "      <td>0.0</td>\n",
              "      <td>4.0</td>\n",
              "      <td>Av</td>\n",
              "      <td>655</td>\n",
              "      <td>GLQ</td>\n",
              "      <td>490</td>\n",
              "      <td>836</td>\n",
              "      <td>RFn</td>\n",
              "      <td>2000.0</td>\n",
              "      <td>...</td>\n",
              "      <td>14260</td>\n",
              "      <td>84.0</td>\n",
              "      <td>350.0</td>\n",
              "      <td>84</td>\n",
              "      <td>5</td>\n",
              "      <td>8</td>\n",
              "      <td>1145</td>\n",
              "      <td>2000</td>\n",
              "      <td>2000</td>\n",
              "      <td>250000</td>\n",
              "    </tr>\n",
              "  </tbody>\n",
              "</table>\n",
              "<p>5 rows × 22 columns</p>\n",
              "</div>"
            ],
            "text/plain": [
              "   1stFlrSF  2ndFlrSF  BedroomAbvGr BsmtExposure  BsmtFinSF1 BsmtFinType1  \\\n",
              "0       856     854.0           3.0           No         706          GLQ   \n",
              "1      1262       0.0           3.0           Gd         978          ALQ   \n",
              "2       920     866.0           3.0           Mn         486          GLQ   \n",
              "3       961       0.0           3.0           No         216          ALQ   \n",
              "4      1145       0.0           4.0           Av         655          GLQ   \n",
              "\n",
              "   BsmtUnfSF  GarageArea GarageFinish  GarageYrBlt  ...  LotArea LotFrontage  \\\n",
              "0        150         548          RFn       2003.0  ...     8450        65.0   \n",
              "1        284         460          RFn       1976.0  ...     9600        80.0   \n",
              "2        434         608          RFn       2001.0  ...    11250        68.0   \n",
              "3        540         642          Unf       1998.0  ...     9550        60.0   \n",
              "4        490         836          RFn       2000.0  ...    14260        84.0   \n",
              "\n",
              "   MasVnrArea  OpenPorchSF  OverallCond  OverallQual  TotalBsmtSF  YearBuilt  \\\n",
              "0       196.0           61            5            7          856       2003   \n",
              "1         0.0            0            8            6         1262       1976   \n",
              "2       162.0           42            5            7          920       2001   \n",
              "3         0.0           35            5            7          756       1915   \n",
              "4       350.0           84            5            8         1145       2000   \n",
              "\n",
              "   YearRemodAdd  SalePrice  \n",
              "0          2003     208500  \n",
              "1          1976     181500  \n",
              "2          2002     223500  \n",
              "3          1970     140000  \n",
              "4          2000     250000  \n",
              "\n",
              "[5 rows x 22 columns]"
            ]
          },
          "execution_count": 10,
          "metadata": {},
          "output_type": "execute_result"
        }
      ],
      "source": [
        "print(\" Final check: Any missing values?\")\n",
        "print(house_prices_df.isnull().sum().sum())  # Should be 0\n",
        "\n",
        "print(\"\\n Final shape of cleaned data:\")\n",
        "print(house_prices_df.shape)\n",
        "\n",
        "print(\"\\n Preview of cleaned dataset:\")\n",
        "house_prices_df.head()"
      ]
    },
    {
      "cell_type": "markdown",
      "metadata": {},
      "source": [
        "Split into Train/Test & Save"
      ]
    },
    {
      "cell_type": "code",
      "execution_count": 12,
      "metadata": {},
      "outputs": [
        {
          "name": "stdout",
          "output_type": "stream",
          "text": [
            "Cleaned datasets saved successfully!\n"
          ]
        }
      ],
      "source": [
        "from sklearn.model_selection import train_test_split\n",
        "import os\n",
        "\n",
        "# Split the data\n",
        "TrainSet, TestSet = train_test_split(house_prices_df, test_size=0.2, random_state=3)\n",
        "\n",
        "# Combine for full set (useful later for inspection or correlation)\n",
        "FullSet = pd.concat([TrainSet, TestSet], ignore_index=True)\n",
        "\n",
        "# Create cleaned output folder (if it doesn't exist)\n",
        "try:\n",
        "    os.makedirs(\"outputs/datasets/cleaned\", exist_ok=True)\n",
        "except Exception as e:\n",
        "    print(e)\n",
        "\n",
        "# Save the files\n",
        "TrainSet.to_csv(\"outputs/datasets/cleaned/TrainSetCleaned.csv\", index=False)\n",
        "TestSet.to_csv(\"outputs/datasets/cleaned/TestSetCleaned.csv\", index=False)\n",
        "FullSet.to_csv(\"outputs/datasets/cleaned/FullSetCleaned.csv\", index=False)\n",
        "\n",
        "print(\"Cleaned datasets saved successfully!\")"
      ]
    },
    {
      "cell_type": "markdown",
      "metadata": {},
      "source": [
        "---"
      ]
    },
    {
      "cell_type": "markdown",
      "metadata": {},
      "source": [
        "NOTE"
      ]
    },
    {
      "cell_type": "markdown",
      "metadata": {},
      "source": [
        "* You may add as many sections as you want, as long as they support your project workflow.\n",
        "* All notebook's cells should be run top-down (you can't create a dynamic wherein a given point you need to go back to a previous cell to execute some task, like go back to a previous cell and refresh a variable content)"
      ]
    },
    {
      "cell_type": "markdown",
      "metadata": {},
      "source": [
        "---"
      ]
    },
    {
      "cell_type": "markdown",
      "metadata": {
        "id": "ltNetd085qHf"
      },
      "source": [
        "# Push files to Repo"
      ]
    },
    {
      "cell_type": "markdown",
      "metadata": {},
      "source": [
        "* If you do not need to push files to Repo, you may replace this section with \"Conclusions and Next Steps\" and state your conclusions and next steps."
      ]
    }
  ],
  "metadata": {
    "accelerator": "GPU",
    "colab": {
      "name": "Data Practitioner Jupyter Notebook.ipynb",
      "provenance": [],
      "toc_visible": true
    },
    "kernelspec": {
      "display_name": "Python 3",
      "language": "python",
      "name": "python3"
    },
    "language_info": {
      "codemirror_mode": {
        "name": "ipython",
        "version": 3
      },
      "file_extension": ".py",
      "mimetype": "text/x-python",
      "name": "python",
      "nbconvert_exporter": "python",
      "pygments_lexer": "ipython3",
      "version": "3.12.1"
    },
    "orig_nbformat": 2
  },
  "nbformat": 4,
  "nbformat_minor": 2
}
